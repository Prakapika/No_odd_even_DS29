{
 "cells": [
  {
   "cell_type": "code",
   "execution_count": 3,
   "id": "43580c65",
   "metadata": {},
   "outputs": [
    {
     "name": "stdout",
     "output_type": "stream",
     "text": [
      "The number of even numbers: 5\n",
      "The number of odd numbers: 6\n"
     ]
    }
   ],
   "source": [
    "sample_numbers = (1,2,3,4,5,6,7,8,9,10,11)\n",
    "even = 0\n",
    "odd = 0\n",
    "for i in sample_numbers:\n",
    "    if i%2 == 0:\n",
    "        even+=1\n",
    "    else:\n",
    "        odd+=1\n",
    "print(\"The number of even numbers:\", even)\n",
    "print(\"The number of odd numbers:\", odd)\n",
    "    "
   ]
  },
  {
   "cell_type": "code",
   "execution_count": null,
   "id": "7722a10c",
   "metadata": {},
   "outputs": [],
   "source": []
  }
 ],
 "metadata": {
  "kernelspec": {
   "display_name": "Python 3 (ipykernel)",
   "language": "python",
   "name": "python3"
  },
  "language_info": {
   "codemirror_mode": {
    "name": "ipython",
    "version": 3
   },
   "file_extension": ".py",
   "mimetype": "text/x-python",
   "name": "python",
   "nbconvert_exporter": "python",
   "pygments_lexer": "ipython3",
   "version": "3.10.6"
  }
 },
 "nbformat": 4,
 "nbformat_minor": 5
}
